{
 "cells": [
  {
   "cell_type": "code",
   "execution_count": null,
   "id": "e2cf023f",
   "metadata": {},
   "outputs": [],
   "source": [
    "#| default_exp wedding "
   ]
  },
  {
   "cell_type": "markdown",
   "id": "c741d5ea-2ff1-42ab-8558-19b7fc5a50f1",
   "metadata": {},
   "source": [
    "# South Asian AI Wedding Planner\n",
    "\n",
    "## Problem Description\n",
    "Easily Connect Wedding Vendors To Wedding Planners To Automate the booking process for clients, vendors, and planners in a single location to make booking vendors easy for wedding vendors.\n",
    "\n",
    "## Acceptance Criteria\n",
    "This project is to develop a website and mobile application for event management which connects host(Customer) to event planner. Main goal is to provide customer user to ability to add their event on the application and find the best fit vendor (Event organiser) for them.\n",
    "\n",
    "- User will register into Website & mobile application with required information like email address, name, mobile number and password. Alternative way to get registered into Website & mobile application is via social media platform like google and Facebook.\n",
    "- User can create the new event with event information and event type and save to their account. After adding the event user will find the best vendor for them and send quote request to vendor user.\n",
    "- Vendor user will receive the quotation request and with detail information for event. After quote request both host and vendor user can communicate via messaging. All the event deal related this will be in messaging like quotation, bargaining and media sharing.\n",
    "- There will be notification system to send the alert to host user for activity trigger on platform.\n",
    "- Other side of website and mobile app is vendor user who will provide service to host for event. Vendor user will register into Website & mobile application with required information about them and their firm. After registration their business profile will be send to admin user and admin user will approve or reject their profile.\n",
    "- Vendor user can view the event created by host user with all the details of event and its budget. There will be subscription plan mechanism for vendor user to request to initiate conversion with host for created event. Vendor user will subscribe for specific plan and based on subscribe specific plan vendor user can bid on the host’s event.\n",
    "- Vendor user can view the quote request from host user with detail event information. Vendor user can communicate with host user in messaging service.\n",
    "- Admin will be main controller of website and mobile application and will manage the mobile application from backend admin panel\n",
    "\n",
    "## Stakeholders of the proposed project\n",
    "Here, below mentioned are the basic user types which are associated with the proposed project,\n",
    "\n",
    "1. **Host/Customer User** - Web and Mobile App\n",
    "2. **Vendor User** - Web and Mobile App\n",
    "3. **Admin User** - Backend Admin Panel"
   ]
  },
  {
   "cell_type": "code",
   "execution_count": null,
   "id": "1640cfd3",
   "metadata": {},
   "outputs": [],
   "source": [
    "#| hide\n",
    "from nbdev.showdoc import *"
   ]
  },
  {
   "cell_type": "code",
   "execution_count": null,
   "id": "6e67379b",
   "metadata": {},
   "outputs": [],
   "source": [
    "import pandas as pd\n",
    "from flask import Flask, request, jsonify"
   ]
  },
  {
   "cell_type": "code",
   "execution_count": null,
   "id": "e1db0607-57f7-4f6c-9261-ea58aec798b7",
   "metadata": {},
   "outputs": [
    {
     "data": {
      "text/plain": [
       "('John Doe registered successfully as a Host/Customer!',\n",
       " 'Vendor Corp registered successfully as a Vendor!')"
      ]
     },
     "execution_count": null,
     "metadata": {},
     "output_type": "execute_result"
    }
   ],
   "source": [
    "#| export\n",
    "# The following classes are designed to manage user registration and login for a simple application.\n",
    "\n",
    "#|export\n",
    "class User:\n",
    "    \"\"\"\n",
    "    Represents a user in the system.\n",
    "    \n",
    "        Attributes:\n",
    "    - **user_type** (str): The type of the user (e.g., 'Host/Customer', 'Vendor').\n",
    "    - **email** (str): The email address of the user.\n",
    "    - **name** (str): The name of the user.\n",
    "    - **mobile_number** (str): The mobile number of the user.\n",
    "    - **password** (str): The password of the user (In a real-world scenario, this would be hashed).\n",
    "    - **events** (list): A list to store events created by Host/Customer.\n",
    "\n",
    "    \"\"\"\n",
    "    def __init__(self, user_type, email, name, mobile_number, password):\n",
    "        self.user_type = user_type\n",
    "        self.email = email\n",
    "        self.name = name\n",
    "        self.mobile_number = mobile_number\n",
    "        self.password = password  # In a real-world scenario, passwords would be hashed and not stored in plain text\n",
    "        self.events = []  # List to store events created by Host/Customer\n",
    "\n",
    "class UserManager:\n",
    "    \"\"\"\n",
    "    Manages operations related to users.\n",
    "    \n",
    "    Attributes:\n",
    "        users (list): A list to store registered users.\n",
    "    \"\"\"\n",
    "    def __init__(self):\n",
    "        self.users = []  # List to store registered users\n",
    "\n",
    "    def register(self, user_type, email, name, mobile_number, password):\n",
    "        \"\"\"\n",
    "        Registers a new user.\n",
    "        \n",
    "        Args:\n",
    "            user_type (str): The type of the user.\n",
    "            email (str): The email address of the user.\n",
    "            name (str): The name of the user.\n",
    "            mobile_number (str): The mobile number of the user.\n",
    "            password (str): The password of the user.\n",
    "            \n",
    "        Returns:\n",
    "            str: A message indicating the registration status.\n",
    "        \"\"\"\n",
    "        user = User(user_type, email, name, mobile_number, password)\n",
    "        self.users.append(user)\n",
    "        return f'{name} registered successfully as a {user_type}!'\n",
    "\n",
    "    def login(self, email, password):\n",
    "        \"\"\"\n",
    "        Attempts to login a user.\n",
    "        \n",
    "        Args:\n",
    "            email (str): The email address of the user.\n",
    "            password (str): The password of the user.\n",
    "            \n",
    "        Returns:\n",
    "            str: A message indicating the login status.\n",
    "        \"\"\"\n",
    "        for user in self.users:\n",
    "            if user.email == email and user.password == password:\n",
    "                return f'{user.name} logged in successfully!'\n",
    "        return 'Invalid credentials!'\n",
    "\n",
    "# Create an instance of UserManager\n",
    "user_manager = UserManager()\n",
    "\n",
    "# Register a Host/Customer and a Vendor\n",
    "host_registration = user_manager.register('Host/Customer', 'host@example.com', 'John Doe', '1234567890', 'password123')\n",
    "vendor_registration = user_manager.register('Vendor', 'vendor@example.com', 'Vendor Corp', '0987654321', 'vendorpass')\n",
    "\n",
    "host_registration, vendor_registration\n"
   ]
  },
  {
   "cell_type": "code",
   "execution_count": null,
   "id": "fcb8c59a-eb94-43ce-abbb-596c787d8a38",
   "metadata": {},
   "outputs": [
    {
     "data": {
      "text/plain": [
       "'Event \"John & Jane Wedding\" created successfully!'"
      ]
     },
     "execution_count": null,
     "metadata": {},
     "output_type": "execute_result"
    }
   ],
   "source": [
    "#| export\n",
    "# Event Creation\n",
    "\n",
    "class Event:\n",
    "    def __init__(self, event_name, event_type, event_date, budget):\n",
    "        self.event_name = event_name\n",
    "        self.event_type = event_type\n",
    "        self.event_date = event_date\n",
    "        self.budget = budget\n",
    "\n",
    "def create_event(user, event_name, event_type, event_date, budget):\n",
    "    if user.user_type != 'Host/Customer':\n",
    "        return 'Only Host/Customer users can create events!'\n",
    "    event = Event(event_name, event_type, event_date, budget)\n",
    "    user.events.append(event)\n",
    "    return f'Event \"{event_name}\" created successfully!'\n",
    "\n",
    "# Retrieve the registered Host/Customer\n",
    "host_user = [user for user in user_manager.users if user.user_type == 'Host/Customer'][0]\n",
    "\n",
    "# Create a sample event\n",
    "event_creation = create_event(host_user, 'John & Jane Wedding', 'Wedding', '2023-12-25', 20000)\n",
    "event_creation"
   ]
  },
  {
   "cell_type": "markdown",
   "id": "3abf102d-1cc2-4076-adc7-b9727382978d",
   "metadata": {},
   "source": [
    "## Data Structure Design\n",
    "\n",
    "### 1. Users\n",
    "- **UserID**: Unique identifier for the user\n",
    "- **Name**: Full name of the user\n",
    "- **Email**: Email address\n",
    "- **Password**: Encrypted password (for demonstration purposes, we'll keep it simple)\n",
    "- **UserType**: Host, Vendor, or Admin\n",
    "- **MobileNumber**: Contact number\n",
    "- **SocialMediaID**: Identifier from Google/Facebook (if registered via social media)\n",
    "\n",
    "### 2. Events\n",
    "- **EventID**: Unique identifier for the event\n",
    "- **HostUserID**: UserID of the host creating the event\n",
    "- **EventType**: Type of the event (e.g., Wedding, Birthday, etc.)\n",
    "- **EventDetails**: Additional details about the event\n",
    "- **Budget**: Estimated budget for the event\n",
    "\n",
    "### 3. Quotes\n",
    "- **QuoteID**: Unique identifier for the quote\n",
    "- **VendorUserID**: UserID of the vendor sending the quote\n",
    "- **EventID**: Event for which the quote is sent\n",
    "- **QuoteAmount**: Quoted amount by the vendor\n",
    "- **QuoteDetails**: Additional details or terms of the quote\n",
    "\n",
    "### 4. Messages\n",
    "- **MessageID**: Unique identifier for the message\n",
    "- **SenderUserID**: UserID of the sender\n",
    "- **ReceiverUserID**: UserID of the receiver\n",
    "- **EventID**: Event related to the message\n",
    "- **MessageContent**: Content of the message\n",
    "\n",
    "### 5. Subscriptions\n",
    "- **SubscriptionID**: Unique identifier for the subscription\n",
    "- **VendorUserID**: UserID of the vendor subscribing\n",
    "- **SubscriptionType**: Type of subscription (e.g., Basic, Premium, etc.)\n",
    "- **SubscriptionDetails**: Details about what's included in the subscription\n",
    "\n",
    "### 6. Notifications (Assumption: Simple notification structure for the demo)\n",
    "- **NotificationID**: Unique identifier for the notification\n",
    "- **UserID**: User receiving the notification\n",
    "- **NotificationContent**: Content of the notification\n",
    "- **IsRead**: Boolean indicating if the notification has been read\n",
    "\n",
    "These are the basic data structures we'll need for our demo. Next, we'll implement the user registration and login system."
   ]
  },
  {
   "cell_type": "markdown",
   "id": "13ffdc69-5c67-466e-abff-5d07e233e764",
   "metadata": {},
   "source": [
    "## Data Structure for Wedding Planner App\n",
    "\n",
    "### Entities:\n",
    "1. **Users**:\n",
    "   - Attributes: user_id, name, email, password, user_type (Host, Vendor, Admin), registration_date\n",
    "   - Relationships: Host can create multiple events. Vendor can bid on multiple events. Admin oversees all activities.\n",
    "\n",
    "2. **Events**:\n",
    "   - Attributes: event_id, host_id (foreign key), event_name, event_type, event_date, budget, description\n",
    "   - Relationships: An event is created by one host. Multiple vendors can bid on an event.\n",
    "\n",
    "3. **Quotes**:\n",
    "   - Attributes: quote_id, event_id (foreign key), vendor_id (foreign key), quoted_price, status (Pending, Accepted, Rejected)\n",
    "   - Relationships: A quote is associated with one event and one vendor.\n",
    "\n",
    "4. **Messages**:\n",
    "   - Attributes: message_id, sender_id (foreign key), receiver_id (foreign key), event_id (foreign key), content, timestamp\n",
    "   - Relationships: Messages are exchanged between hosts and vendors for a specific event.\n",
    "\n",
    "5. **Subscriptions** (Mock for demo):\n",
    "   - Attributes: subscription_id, vendor_id (foreign key), subscription_type, start_date, end_date\n",
    "   - Relationships: A vendor can have one active subscription at a time.\n",
    "\n",
    "### Assumptions:\n",
    "- For the sake of simplicity, we'll use mock data for user registration and login.\n",
    "- Event details are simplified to include only essential attributes.\n",
    "- Messaging is basic without media sharing.\n",
    "- We'll use a mock subscription plan for vendors for the demo."
   ]
  },
  {
   "cell_type": "code",
   "execution_count": null,
   "id": "2e8ff074-784f-46d7-80fd-5883c234519e",
   "metadata": {},
   "outputs": [
    {
     "data": {
      "text/plain": [
       "(['John & Jane Wedding'], 'Message sent from Vendor Corp to John Doe!')"
      ]
     },
     "execution_count": null,
     "metadata": {},
     "output_type": "execute_result"
    }
   ],
   "source": [
    "#| export\n",
    "# Vendor Interaction and Messaging\n",
    "\n",
    "class Message:\n",
    "    def __init__(self, sender, receiver, content):\n",
    "        self.sender = sender\n",
    "        self.receiver = receiver\n",
    "        self.content = content\n",
    "\n",
    "class MessagingSystem:\n",
    "    def __init__(self):\n",
    "        self.messages = []\n",
    "\n",
    "    def send_message(self, sender, receiver, content):\n",
    "        message = Message(sender, receiver, content)\n",
    "        self.messages.append(message)\n",
    "        return f'Message sent from {sender.name} to {receiver.name}!'\n",
    "\n",
    "def view_events(vendor):\n",
    "    if vendor.user_type != 'Vendor':\n",
    "        return 'Only Vendor users can view events!'\n",
    "    events = [user.events for user in user_manager.users if user.user_type == 'Host/Customer']\n",
    "    events_list = [event.event_name for sublist in events for event in sublist]\n",
    "    return events_list\n",
    "\n",
    "messaging_system = MessagingSystem()\n",
    "\n",
    "# Retrieve the registered Vendor\n",
    "vendor_user = [user for user in user_manager.users if user.user_type == 'Vendor'][0]\n",
    "\n",
    "# Vendor views the list of events\n",
    "available_events = view_events(vendor_user)\n",
    "\n",
    "# Vendor sends a quote request for the sample event\n",
    "quote_request = messaging_system.send_message(vendor_user, host_user, 'Quote request for John & Jane Wedding event.')\n",
    "\n",
    "available_events, quote_request"
   ]
  },
  {
   "cell_type": "code",
   "execution_count": null,
   "id": "c171911e-1711-4cf9-87ce-2e110d20d580",
   "metadata": {},
   "outputs": [
    {
     "data": {
      "text/html": [
       "<div>\n",
       "<style scoped>\n",
       "    .dataframe tbody tr th:only-of-type {\n",
       "        vertical-align: middle;\n",
       "    }\n",
       "\n",
       "    .dataframe tbody tr th {\n",
       "        vertical-align: top;\n",
       "    }\n",
       "\n",
       "    .dataframe thead th {\n",
       "        text-align: right;\n",
       "    }\n",
       "</style>\n",
       "<table border=\"1\" class=\"dataframe\">\n",
       "  <thead>\n",
       "    <tr style=\"text-align: right;\">\n",
       "      <th></th>\n",
       "      <th>user_id</th>\n",
       "      <th>name</th>\n",
       "      <th>email</th>\n",
       "      <th>password</th>\n",
       "      <th>user_type</th>\n",
       "      <th>registration_date</th>\n",
       "    </tr>\n",
       "  </thead>\n",
       "  <tbody>\n",
       "    <tr>\n",
       "      <th>0</th>\n",
       "      <td>1</td>\n",
       "      <td>Alice</td>\n",
       "      <td>alice@email.com</td>\n",
       "      <td>pass123</td>\n",
       "      <td>Host</td>\n",
       "      <td>2023-08-01</td>\n",
       "    </tr>\n",
       "    <tr>\n",
       "      <th>1</th>\n",
       "      <td>2</td>\n",
       "      <td>Bob</td>\n",
       "      <td>bob@email.com</td>\n",
       "      <td>pass456</td>\n",
       "      <td>Vendor</td>\n",
       "      <td>2023-08-02</td>\n",
       "    </tr>\n",
       "    <tr>\n",
       "      <th>2</th>\n",
       "      <td>3</td>\n",
       "      <td>Charlie</td>\n",
       "      <td>charlie@email.com</td>\n",
       "      <td>pass789</td>\n",
       "      <td>Vendor</td>\n",
       "      <td>2023-08-03</td>\n",
       "    </tr>\n",
       "    <tr>\n",
       "      <th>3</th>\n",
       "      <td>4</td>\n",
       "      <td>Admin</td>\n",
       "      <td>admin@email.com</td>\n",
       "      <td>adminpass</td>\n",
       "      <td>Admin</td>\n",
       "      <td>2023-08-01</td>\n",
       "    </tr>\n",
       "  </tbody>\n",
       "</table>\n",
       "</div>"
      ],
      "text/plain": [
       "   user_id     name              email   password user_type registration_date\n",
       "0        1    Alice    alice@email.com    pass123      Host        2023-08-01\n",
       "1        2      Bob      bob@email.com    pass456    Vendor        2023-08-02\n",
       "2        3  Charlie  charlie@email.com    pass789    Vendor        2023-08-03\n",
       "3        4    Admin    admin@email.com  adminpass     Admin        2023-08-01"
      ]
     },
     "execution_count": null,
     "metadata": {},
     "output_type": "execute_result"
    }
   ],
   "source": [
    "\n",
    "# Mock data for Users\n",
    "users_data = {\n",
    "    'user_id': [1, 2, 3, 4],\n",
    "    'name': ['Alice', 'Bob', 'Charlie', 'Admin'],\n",
    "    'email': ['alice@email.com', 'bob@email.com', 'charlie@email.com', 'admin@email.com'],\n",
    "    'password': ['pass123', 'pass456', 'pass789', 'adminpass'],  # For demo purposes, passwords are kept simple\n",
    "    'user_type': ['Host', 'Vendor', 'Vendor', 'Admin'],\n",
    "    'registration_date': ['2023-08-01', '2023-08-02', '2023-08-03', '2023-08-01']\n",
    "}\n",
    "users_df = pd.DataFrame(users_data)\n",
    "\n",
    "users_df"
   ]
  },
  {
   "cell_type": "code",
   "execution_count": null,
   "id": "dcd62543-95c5-48ee-9571-af186a5d79fe",
   "metadata": {},
   "outputs": [
    {
     "data": {
      "text/plain": [
       "('User John Doe registered successfully!',\n",
       " 'User Vendor Inc. registered successfully!',\n",
       " 'Welcome John Doe!',\n",
       " 'Invalid credentials!')"
      ]
     },
     "execution_count": null,
     "metadata": {},
     "output_type": "execute_result"
    }
   ],
   "source": [
    "#| export\n",
    "# User Registration & Login Simulation\n",
    "\n",
    "class User:\n",
    "    def __init__(self, user_id, name, email, password, user_type, mobile_number, social_media_id=None):\n",
    "        self.user_id = user_id\n",
    "        self.name = name\n",
    "        self.email = email\n",
    "        self.password = password  # For simplicity, we're not encrypting the password in this demo\n",
    "        self.user_type = user_type\n",
    "        self.mobile_number = mobile_number\n",
    "        self.social_media_id = social_media_id\n",
    "\n",
    "class RegistrationSystem:\n",
    "    def __init__(self):\n",
    "        self.users = []  # List to store registered users\n",
    "\n",
    "    def register(self, name, email, password, user_type, mobile_number, social_media_id=None):\n",
    "        user_id = len(self.users) + 1  # Simple user ID generation\n",
    "        new_user = User(user_id, name, email, password, user_type, mobile_number, social_media_id)\n",
    "        self.users.append(new_user)\n",
    "        return f'User {name} registered successfully!'\n",
    "\n",
    "    def login(self, email, password):\n",
    "        for user in self.users:\n",
    "            if user.email == email and user.password == password:\n",
    "                return f'Welcome {user.name}!'\n",
    "        return 'Invalid credentials!'\n",
    "\n",
    "# Testing the registration and login system\n",
    "system = RegistrationSystem()\n",
    "register_msg1 = system.register('John Doe', 'john@example.com', 'password123', 'Host', '1234567890')\n",
    "register_msg2 = system.register('Vendor Inc.', 'vendor@example.com', 'vendorpass', 'Vendor', '0987654321')\n",
    "login_msg1 = system.login('john@example.com', 'password123')\n",
    "login_msg2 = system.login('vendor@example.com', 'wrongpass')\n",
    "\n",
    "register_msg1, register_msg2, login_msg1, login_msg2"
   ]
  },
  {
   "cell_type": "code",
   "execution_count": null,
   "id": "cefa58f4-8870-433b-a96b-66d13f6142c3",
   "metadata": {},
   "outputs": [
    {
     "data": {
      "text/plain": [
       "(['Vendor Corp'], 'Vendor Vendor Corp approved successfully!')"
      ]
     },
     "execution_count": null,
     "metadata": {},
     "output_type": "execute_result"
    }
   ],
   "source": [
    "#| export\n",
    "# Admin Panel\n",
    "\n",
    "class Admin:\n",
    "    def __init__(self, name):\n",
    "        self.name = name\n",
    "\n",
    "    def view_vendors(self):\n",
    "        vendors = [user for user in user_manager.users if user.user_type == 'Vendor']\n",
    "        vendor_names = [vendor.name for vendor in vendors]\n",
    "        return vendor_names\n",
    "\n",
    "    def approve_vendor(self, vendor_name):\n",
    "        # In a real-world scenario, this would involve updating the vendor's profile status in the database\n",
    "        return f'Vendor {vendor_name} approved successfully!'\n",
    "\n",
    "    def reject_vendor(self, vendor_name):\n",
    "        # In a real-world scenario, this would involve updating the vendor's profile status in the database\n",
    "        return f'Vendor {vendor_name} rejected!'\n",
    "\n",
    "# Create an instance of Admin\n",
    "admin_user = Admin('Admin User')\n",
    "\n",
    "# Admin views the list of registered vendors\n",
    "registered_vendors = admin_user.view_vendors()\n",
    "\n",
    "# Admin approves the registered vendor\n",
    "vendor_approval = admin_user.approve_vendor(registered_vendors[0])\n",
    "\n",
    "registered_vendors, vendor_approval"
   ]
  },
  {
   "cell_type": "code",
   "execution_count": null,
   "id": "a05a5a9b-b9b6-4ebf-a647-ccda36500f71",
   "metadata": {},
   "outputs": [
    {
     "data": {
      "text/plain": [
       "('Notification sent to John Doe: \"You have received a quote request for John & Jane Wedding event.\"',\n",
       " 'Notification sent to Vendor Corp: \"Your profile has been approved by the admin.\"')"
      ]
     },
     "execution_count": null,
     "metadata": {},
     "output_type": "execute_result"
    }
   ],
   "source": [
    "#| export\n",
    "# Mock Notification System\n",
    "\n",
    "class Notification:\n",
    "    def __init__(self, user, content):\n",
    "        self.user = user\n",
    "        self.content = content\n",
    "\n",
    "class NotificationSystem:\n",
    "    def __init__(self):\n",
    "        self.notifications = []\n",
    "\n",
    "    def send_notification(self, user, content):\n",
    "        notification = Notification(user, content)\n",
    "        self.notifications.append(notification)\n",
    "        return f'Notification sent to {user.name}: \"{content}\"'\n",
    "\n",
    "notification_system = NotificationSystem()\n",
    "\n",
    "# Send a notification to the Host/Customer about the quote request\n",
    "quote_notification = notification_system.send_notification(host_user, 'You have received a quote request for John & Jane Wedding event.')\n",
    "\n",
    "# Send a notification to the Vendor about the approval\n",
    "approval_notification = notification_system.send_notification(vendor_user, 'Your profile has been approved by the admin.')\n",
    "\n",
    "quote_notification, approval_notification"
   ]
  },
  {
   "cell_type": "code",
   "execution_count": null,
   "id": "ea9d6c25-db5b-45de-a749-70035759f20d",
   "metadata": {},
   "outputs": [
    {
     "data": {
      "text/html": [
       "<div>\n",
       "<style scoped>\n",
       "    .dataframe tbody tr th:only-of-type {\n",
       "        vertical-align: middle;\n",
       "    }\n",
       "\n",
       "    .dataframe tbody tr th {\n",
       "        vertical-align: top;\n",
       "    }\n",
       "\n",
       "    .dataframe thead th {\n",
       "        text-align: right;\n",
       "    }\n",
       "</style>\n",
       "<table border=\"1\" class=\"dataframe\">\n",
       "  <thead>\n",
       "    <tr style=\"text-align: right;\">\n",
       "      <th></th>\n",
       "      <th>event_id</th>\n",
       "      <th>host_id</th>\n",
       "      <th>event_name</th>\n",
       "      <th>event_type</th>\n",
       "      <th>event_date</th>\n",
       "      <th>budget</th>\n",
       "      <th>description</th>\n",
       "    </tr>\n",
       "  </thead>\n",
       "  <tbody>\n",
       "    <tr>\n",
       "      <th>0</th>\n",
       "      <td>101</td>\n",
       "      <td>1</td>\n",
       "      <td>Wedding Ceremony</td>\n",
       "      <td>Wedding</td>\n",
       "      <td>2023-12-01</td>\n",
       "      <td>10000</td>\n",
       "      <td>A grand wedding ceremony.</td>\n",
       "    </tr>\n",
       "    <tr>\n",
       "      <th>1</th>\n",
       "      <td>102</td>\n",
       "      <td>1</td>\n",
       "      <td>Reception Party</td>\n",
       "      <td>Party</td>\n",
       "      <td>2023-12-02</td>\n",
       "      <td>5000</td>\n",
       "      <td>A fun-filled reception party.</td>\n",
       "    </tr>\n",
       "    <tr>\n",
       "      <th>2</th>\n",
       "      <td>103</td>\n",
       "      <td>2</td>\n",
       "      <td>Birthday Bash</td>\n",
       "      <td>Birthday</td>\n",
       "      <td>2023-11-15</td>\n",
       "      <td>2000</td>\n",
       "      <td>A surprise birthday bash.</td>\n",
       "    </tr>\n",
       "  </tbody>\n",
       "</table>\n",
       "</div>"
      ],
      "text/plain": [
       "   event_id  host_id        event_name event_type  event_date  budget  \\\n",
       "0       101        1  Wedding Ceremony    Wedding  2023-12-01   10000   \n",
       "1       102        1   Reception Party      Party  2023-12-02    5000   \n",
       "2       103        2     Birthday Bash   Birthday  2023-11-15    2000   \n",
       "\n",
       "                     description  \n",
       "0      A grand wedding ceremony.  \n",
       "1  A fun-filled reception party.  \n",
       "2      A surprise birthday bash.  "
      ]
     },
     "execution_count": null,
     "metadata": {},
     "output_type": "execute_result"
    }
   ],
   "source": [
    "# Mock data for Events\n",
    "events_data = {\n",
    "    'event_id': [101, 102, 103],\n",
    "    'host_id': [1, 1, 2],\n",
    "    'event_name': ['Wedding Ceremony', 'Reception Party', 'Birthday Bash'],\n",
    "    'event_type': ['Wedding', 'Party', 'Birthday'],\n",
    "    'event_date': ['2023-12-01', '2023-12-02', '2023-11-15'],\n",
    "    'budget': [10000, 5000, 2000],\n",
    "    'description': ['A grand wedding ceremony.', 'A fun-filled reception party.', 'A surprise birthday bash.']\n",
    "}\n",
    "events_df = pd.DataFrame(events_data)\n",
    "\n",
    "events_df"
   ]
  },
  {
   "cell_type": "code",
   "execution_count": null,
   "id": "ca0f3dd2-1c68-4519-86e7-83df1db4e1d0",
   "metadata": {},
   "outputs": [
    {
     "data": {
      "text/html": [
       "<div>\n",
       "<style scoped>\n",
       "    .dataframe tbody tr th:only-of-type {\n",
       "        vertical-align: middle;\n",
       "    }\n",
       "\n",
       "    .dataframe tbody tr th {\n",
       "        vertical-align: top;\n",
       "    }\n",
       "\n",
       "    .dataframe thead th {\n",
       "        text-align: right;\n",
       "    }\n",
       "</style>\n",
       "<table border=\"1\" class=\"dataframe\">\n",
       "  <thead>\n",
       "    <tr style=\"text-align: right;\">\n",
       "      <th></th>\n",
       "      <th>quote_id</th>\n",
       "      <th>event_id</th>\n",
       "      <th>vendor_id</th>\n",
       "      <th>quoted_price</th>\n",
       "      <th>status</th>\n",
       "    </tr>\n",
       "  </thead>\n",
       "  <tbody>\n",
       "    <tr>\n",
       "      <th>0</th>\n",
       "      <td>201</td>\n",
       "      <td>101</td>\n",
       "      <td>2</td>\n",
       "      <td>9500</td>\n",
       "      <td>Pending</td>\n",
       "    </tr>\n",
       "    <tr>\n",
       "      <th>1</th>\n",
       "      <td>202</td>\n",
       "      <td>102</td>\n",
       "      <td>3</td>\n",
       "      <td>4800</td>\n",
       "      <td>Accepted</td>\n",
       "    </tr>\n",
       "    <tr>\n",
       "      <th>2</th>\n",
       "      <td>203</td>\n",
       "      <td>103</td>\n",
       "      <td>2</td>\n",
       "      <td>1900</td>\n",
       "      <td>Rejected</td>\n",
       "    </tr>\n",
       "  </tbody>\n",
       "</table>\n",
       "</div>"
      ],
      "text/plain": [
       "   quote_id  event_id  vendor_id  quoted_price    status\n",
       "0       201       101          2          9500   Pending\n",
       "1       202       102          3          4800  Accepted\n",
       "2       203       103          2          1900  Rejected"
      ]
     },
     "execution_count": null,
     "metadata": {},
     "output_type": "execute_result"
    }
   ],
   "source": [
    "# Mock data for Quotes\n",
    "quotes_data = {\n",
    "    'quote_id': [201, 202, 203],\n",
    "    'event_id': [101, 102, 103],\n",
    "    'vendor_id': [2, 3, 2],\n",
    "    'quoted_price': [9500, 4800, 1900],\n",
    "    'status': ['Pending', 'Accepted', 'Rejected']\n",
    "}\n",
    "quotes_df = pd.DataFrame(quotes_data)\n",
    "\n",
    "quotes_df"
   ]
  },
  {
   "cell_type": "code",
   "execution_count": null,
   "id": "145b7d1a-4cca-44e3-918a-ed4b5ee79641",
   "metadata": {},
   "outputs": [
    {
     "data": {
      "text/html": [
       "<div>\n",
       "<style scoped>\n",
       "    .dataframe tbody tr th:only-of-type {\n",
       "        vertical-align: middle;\n",
       "    }\n",
       "\n",
       "    .dataframe tbody tr th {\n",
       "        vertical-align: top;\n",
       "    }\n",
       "\n",
       "    .dataframe thead th {\n",
       "        text-align: right;\n",
       "    }\n",
       "</style>\n",
       "<table border=\"1\" class=\"dataframe\">\n",
       "  <thead>\n",
       "    <tr style=\"text-align: right;\">\n",
       "      <th></th>\n",
       "      <th>message_id</th>\n",
       "      <th>sender_id</th>\n",
       "      <th>receiver_id</th>\n",
       "      <th>event_id</th>\n",
       "      <th>content</th>\n",
       "      <th>timestamp</th>\n",
       "    </tr>\n",
       "  </thead>\n",
       "  <tbody>\n",
       "    <tr>\n",
       "      <th>0</th>\n",
       "      <td>301</td>\n",
       "      <td>1</td>\n",
       "      <td>2</td>\n",
       "      <td>101</td>\n",
       "      <td>Hi, can you provide more details about your se...</td>\n",
       "      <td>2023-08-20 10:00:00</td>\n",
       "    </tr>\n",
       "    <tr>\n",
       "      <th>1</th>\n",
       "      <td>302</td>\n",
       "      <td>2</td>\n",
       "      <td>1</td>\n",
       "      <td>101</td>\n",
       "      <td>Sure, we offer a comprehensive wedding package...</td>\n",
       "      <td>2023-08-20 10:05:00</td>\n",
       "    </tr>\n",
       "    <tr>\n",
       "      <th>2</th>\n",
       "      <td>303</td>\n",
       "      <td>1</td>\n",
       "      <td>3</td>\n",
       "      <td>102</td>\n",
       "      <td>Do you have availability for December 2nd?</td>\n",
       "      <td>2023-08-20 11:00:00</td>\n",
       "    </tr>\n",
       "    <tr>\n",
       "      <th>3</th>\n",
       "      <td>304</td>\n",
       "      <td>3</td>\n",
       "      <td>1</td>\n",
       "      <td>102</td>\n",
       "      <td>Yes, we are available on that date.</td>\n",
       "      <td>2023-08-20 11:10:00</td>\n",
       "    </tr>\n",
       "  </tbody>\n",
       "</table>\n",
       "</div>"
      ],
      "text/plain": [
       "   message_id  sender_id  receiver_id  event_id  \\\n",
       "0         301          1            2       101   \n",
       "1         302          2            1       101   \n",
       "2         303          1            3       102   \n",
       "3         304          3            1       102   \n",
       "\n",
       "                                             content            timestamp  \n",
       "0  Hi, can you provide more details about your se...  2023-08-20 10:00:00  \n",
       "1  Sure, we offer a comprehensive wedding package...  2023-08-20 10:05:00  \n",
       "2         Do you have availability for December 2nd?  2023-08-20 11:00:00  \n",
       "3                Yes, we are available on that date.  2023-08-20 11:10:00  "
      ]
     },
     "execution_count": null,
     "metadata": {},
     "output_type": "execute_result"
    }
   ],
   "source": [
    "#| export\n",
    "# Mock data for Messages\n",
    "messages_data = {\n",
    "    'message_id': [301, 302, 303, 304],\n",
    "    'sender_id': [1, 2, 1, 3],\n",
    "    'receiver_id': [2, 1, 3, 1],\n",
    "    'event_id': [101, 101, 102, 102],\n",
    "    'content': [\n",
    "        'Hi, can you provide more details about your services?',\n",
    "        'Sure, we offer a comprehensive wedding package including catering and decoration.',\n",
    "        'Do you have availability for December 2nd?',\n",
    "        'Yes, we are available on that date.'\n",
    "    ],\n",
    "    'timestamp': ['2023-08-20 10:00:00', '2023-08-20 10:05:00', '2023-08-20 11:00:00', '2023-08-20 11:10:00']\n",
    "}\n",
    "messages_df = pd.DataFrame(messages_data)\n",
    "\n",
    "messages_df"
   ]
  },
  {
   "cell_type": "code",
   "execution_count": null,
   "id": "e33064a6-605b-4f95-b3c7-d58a90d1acb6",
   "metadata": {},
   "outputs": [
    {
     "name": "stderr",
     "output_type": "stream",
     "text": [
      "/var/folders/62/dljfp8k905lffg_vdv3whlyw0000gn/T/ipykernel_55325/3182666538.py:17: FutureWarning: The frame.append method is deprecated and will be removed from pandas in a future version. Use pandas.concat instead.\n",
      "  return messages_df.append(new_message, ignore_index=True)\n"
     ]
    },
    {
     "data": {
      "text/html": [
       "<div>\n",
       "<style scoped>\n",
       "    .dataframe tbody tr th:only-of-type {\n",
       "        vertical-align: middle;\n",
       "    }\n",
       "\n",
       "    .dataframe tbody tr th {\n",
       "        vertical-align: top;\n",
       "    }\n",
       "\n",
       "    .dataframe thead th {\n",
       "        text-align: right;\n",
       "    }\n",
       "</style>\n",
       "<table border=\"1\" class=\"dataframe\">\n",
       "  <thead>\n",
       "    <tr style=\"text-align: right;\">\n",
       "      <th></th>\n",
       "      <th>message_id</th>\n",
       "      <th>sender_id</th>\n",
       "      <th>receiver_id</th>\n",
       "      <th>event_id</th>\n",
       "      <th>content</th>\n",
       "      <th>timestamp</th>\n",
       "    </tr>\n",
       "  </thead>\n",
       "  <tbody>\n",
       "    <tr>\n",
       "      <th>0</th>\n",
       "      <td>301</td>\n",
       "      <td>1</td>\n",
       "      <td>2</td>\n",
       "      <td>101</td>\n",
       "      <td>Hi, can you provide more details about your se...</td>\n",
       "      <td>2023-08-20 10:00:00</td>\n",
       "    </tr>\n",
       "    <tr>\n",
       "      <th>1</th>\n",
       "      <td>302</td>\n",
       "      <td>2</td>\n",
       "      <td>1</td>\n",
       "      <td>101</td>\n",
       "      <td>Sure, we offer a comprehensive wedding package...</td>\n",
       "      <td>2023-08-20 10:05:00</td>\n",
       "    </tr>\n",
       "    <tr>\n",
       "      <th>2</th>\n",
       "      <td>303</td>\n",
       "      <td>1</td>\n",
       "      <td>3</td>\n",
       "      <td>102</td>\n",
       "      <td>Do you have availability for December 2nd?</td>\n",
       "      <td>2023-08-20 11:00:00</td>\n",
       "    </tr>\n",
       "    <tr>\n",
       "      <th>3</th>\n",
       "      <td>304</td>\n",
       "      <td>3</td>\n",
       "      <td>1</td>\n",
       "      <td>102</td>\n",
       "      <td>Yes, we are available on that date.</td>\n",
       "      <td>2023-08-20 11:10:00</td>\n",
       "    </tr>\n",
       "    <tr>\n",
       "      <th>4</th>\n",
       "      <td>305</td>\n",
       "      <td>1</td>\n",
       "      <td>2</td>\n",
       "      <td>101</td>\n",
       "      <td>Can you provide a quote for my wedding ceremony?</td>\n",
       "      <td>2023-10-31 19:59:22</td>\n",
       "    </tr>\n",
       "  </tbody>\n",
       "</table>\n",
       "</div>"
      ],
      "text/plain": [
       "   message_id  sender_id  receiver_id  event_id  \\\n",
       "0         301          1            2       101   \n",
       "1         302          2            1       101   \n",
       "2         303          1            3       102   \n",
       "3         304          3            1       102   \n",
       "4         305          1            2       101   \n",
       "\n",
       "                                             content            timestamp  \n",
       "0  Hi, can you provide more details about your se...  2023-08-20 10:00:00  \n",
       "1  Sure, we offer a comprehensive wedding package...  2023-08-20 10:05:00  \n",
       "2         Do you have availability for December 2nd?  2023-08-20 11:00:00  \n",
       "3                Yes, we are available on that date.  2023-08-20 11:10:00  \n",
       "4   Can you provide a quote for my wedding ceremony?  2023-10-31 19:59:22  "
      ]
     },
     "execution_count": null,
     "metadata": {},
     "output_type": "execute_result"
    }
   ],
   "source": [
    "#| export\n",
    "def send_quote_request(host_id, vendor_id, event_id, content):\n",
    "    \"\"\"Simulate sending a quote request from a host to a vendor.\"\"\"\n",
    "    # Generate a new message_id\n",
    "    new_message_id = messages_df['message_id'].max() + 1\n",
    "    # Current timestamp\n",
    "    current_timestamp = pd.Timestamp.now().strftime('%Y-%m-%d %H:%M:%S')\n",
    "    # Append new message to messages_df\n",
    "    new_message = {\n",
    "        'message_id': new_message_id,\n",
    "        'sender_id': host_id,\n",
    "        'receiver_id': vendor_id,\n",
    "        'event_id': event_id,\n",
    "        'content': content,\n",
    "        'timestamp': current_timestamp\n",
    "    }\n",
    "    return messages_df.append(new_message, ignore_index=True)\n",
    "\n",
    "# Simulate sending a quote request\n",
    "updated_messages_df = send_quote_request(1, 2, 101, 'Can you provide a quote for my wedding ceremony?')\n",
    "updated_messages_df"
   ]
  },
  {
   "cell_type": "code",
   "execution_count": null,
   "id": "5b417cdd-1762-44fb-b3e1-061768dd7dc8",
   "metadata": {},
   "outputs": [
    {
     "data": {
      "application/vnd.jupyter.widget-view+json": {
       "model_id": "94511471a9f540278d1ce0a918eb0fdd",
       "version_major": 2,
       "version_minor": 0
      },
      "text/plain": [
       "Dropdown(description='User Role:', options=('Host', 'Vendor', 'Admin'), value='Host')"
      ]
     },
     "metadata": {},
     "output_type": "display_data"
    },
    {
     "data": {
      "application/vnd.jupyter.widget-view+json": {
       "model_id": "a099a3961bbc403da93a9a0c9c87fb34",
       "version_major": 2,
       "version_minor": 0
      },
      "text/plain": [
       "Button(description='Submit', style=ButtonStyle())"
      ]
     },
     "metadata": {},
     "output_type": "display_data"
    },
    {
     "data": {
      "application/vnd.jupyter.widget-view+json": {
       "model_id": "1b4251de8bc8459a976e0f208f605120",
       "version_major": 2,
       "version_minor": 0
      },
      "text/plain": [
       "Output()"
      ]
     },
     "metadata": {},
     "output_type": "display_data"
    }
   ],
   "source": [
    "#| export\n",
    "import ipywidgets as widgets\n",
    "from IPython.display import display, clear_output\n",
    "\n",
    "# Dropdown to select user role\n",
    "user_role_dropdown = widgets.Dropdown(\n",
    "    options=['Host', 'Vendor', 'Admin'],\n",
    "    value='Host',\n",
    "    description='User Role:',\n",
    "    disabled=False,\n",
    ")\n",
    "\n",
    "# Button to submit selection\n",
    "submit_button = widgets.Button(description='Submit')\n",
    "\n",
    "# Output widget to display results\n",
    "output = widgets.Output()\n",
    "\n",
    "def on_submit_button_clicked(b):\n",
    "    with output:\n",
    "        clear_output()\n",
    "        role = user_role_dropdown.value\n",
    "        if role == 'Host':\n",
    "            display('Welcome Host! Here you can create events, view quotes, and communicate with vendors.')\n",
    "        elif role == 'Vendor':\n",
    "            display('Welcome Vendor! Here you can view events, send quotes, and communicate with hosts.')\n",
    "        else:\n",
    "            display('Welcome Admin! Here you can oversee all activities and manage users.')\n",
    "\n",
    "submit_button.on_click(on_submit_button_clicked)\n",
    "\n",
    "display(user_role_dropdown, submit_button, output)"
   ]
  },
  {
   "cell_type": "code",
   "execution_count": null,
   "id": "e917e36d-d290-4e48-9065-6390cc77e68b",
   "metadata": {},
   "outputs": [
    {
     "data": {
      "application/vnd.jupyter.widget-view+json": {
       "model_id": "452651e1a48343f38c823c8fb66e51f1",
       "version_major": 2,
       "version_minor": 0
      },
      "text/plain": [
       "Dropdown(description='Action:', options=('View My Events', 'Create New Event', 'View Quotes', 'Communicate wit…"
      ]
     },
     "metadata": {},
     "output_type": "display_data"
    },
    {
     "data": {
      "application/vnd.jupyter.widget-view+json": {
       "model_id": "2bbebf95fd134c06929616fe15f2024d",
       "version_major": 2,
       "version_minor": 0
      },
      "text/plain": [
       "Button(description='Submit', style=ButtonStyle())"
      ]
     },
     "metadata": {},
     "output_type": "display_data"
    },
    {
     "data": {
      "application/vnd.jupyter.widget-view+json": {
       "model_id": "00b20f9885ab4708ba9ed084ec75d103",
       "version_major": 2,
       "version_minor": 0
      },
      "text/plain": [
       "Output()"
      ]
     },
     "metadata": {},
     "output_type": "display_data"
    }
   ],
   "source": [
    "#| export\n",
    "# Host Functionality\n",
    "\n",
    "def host_interface():\n",
    "    # Dropdown to select an action\n",
    "    host_action_dropdown = widgets.Dropdown(\n",
    "        options=['View My Events', 'Create New Event', 'View Quotes', 'Communicate with Vendors'],\n",
    "        value='View My Events',\n",
    "        description='Action:',\n",
    "        disabled=False,\n",
    "    )\n",
    "\n",
    "    # Button to submit action\n",
    "    host_submit_button = widgets.Button(description='Submit')\n",
    "\n",
    "    # Output widget to display results\n",
    "    host_output = widgets.Output()\n",
    "\n",
    "    def on_host_submit_button_clicked(b):\n",
    "        with host_output:\n",
    "            clear_output()\n",
    "            action = host_action_dropdown.value\n",
    "            if action == 'View My Events':\n",
    "                display(events_df[events_df['host_id'] == 1])  # Assuming user_id 1 for this demo\n",
    "            elif action == 'Create New Event':\n",
    "                display('Feature to create a new event will be here.')\n",
    "            elif action == 'View Quotes':\n",
    "                display(quotes_df[quotes_df['event_id'].isin(events_df[events_df['host_id'] == 1]['event_id'])])\n",
    "            else:\n",
    "                display('Feature to communicate with vendors will be here.')\n",
    "\n",
    "    host_submit_button.on_click(on_host_submit_button_clicked)\n",
    "\n",
    "    display(host_action_dropdown, host_submit_button, host_output)\n",
    "\n",
    "host_interface()"
   ]
  },
  {
   "cell_type": "code",
   "execution_count": null,
   "id": "1d45723b-25cb-43ec-a563-7d17855c6e31",
   "metadata": {},
   "outputs": [
    {
     "data": {
      "application/vnd.jupyter.widget-view+json": {
       "model_id": "927d74a1bfbb427292280a1b94539174",
       "version_major": 2,
       "version_minor": 0
      },
      "text/plain": [
       "Dropdown(description='Action:', options=('View Available Events', 'Send Quotes', 'View Sent Quotes', 'Communic…"
      ]
     },
     "metadata": {},
     "output_type": "display_data"
    },
    {
     "data": {
      "application/vnd.jupyter.widget-view+json": {
       "model_id": "89597c1ad86b40d69efdd23e1243dd74",
       "version_major": 2,
       "version_minor": 0
      },
      "text/plain": [
       "Button(description='Submit', style=ButtonStyle())"
      ]
     },
     "metadata": {},
     "output_type": "display_data"
    },
    {
     "data": {
      "application/vnd.jupyter.widget-view+json": {
       "model_id": "ca70ab3f53d74f35b81c26993f5d58eb",
       "version_major": 2,
       "version_minor": 0
      },
      "text/plain": [
       "Output()"
      ]
     },
     "metadata": {},
     "output_type": "display_data"
    }
   ],
   "source": [
    "#| export\n",
    "# Vendor Functionality\n",
    "\n",
    "def vendor_interface():\n",
    "    # Dropdown to select an action\n",
    "    vendor_action_dropdown = widgets.Dropdown(\n",
    "        options=['View Available Events', 'Send Quotes', 'View Sent Quotes', 'Communicate with Hosts'],\n",
    "        value='View Available Events',\n",
    "        description='Action:',\n",
    "        disabled=False,\n",
    "    )\n",
    "\n",
    "    # Button to submit action\n",
    "    vendor_submit_button = widgets.Button(description='Submit')\n",
    "\n",
    "    # Output widget to display results\n",
    "    vendor_output = widgets.Output()\n",
    "\n",
    "    def on_vendor_submit_button_clicked(b):\n",
    "        with vendor_output:\n",
    "            clear_output()\n",
    "            action = vendor_action_dropdown.value\n",
    "            if action == 'View Available Events':\n",
    "                display(events_df)  # Display all events for simplicity\n",
    "            elif action == 'Send Quotes':\n",
    "                display('Feature to send quotes for events will be here.')\n",
    "            elif action == 'View Sent Quotes':\n",
    "                display(quotes_df[quotes_df['vendor_id'] == 2])  # Assuming vendor_id 2 for this demo\n",
    "            else:\n",
    "                display('Feature to communicate with hosts will be here.')\n",
    "\n",
    "    vendor_submit_button.on_click(on_vendor_submit_button_clicked)\n",
    "\n",
    "    display(vendor_action_dropdown, vendor_submit_button, vendor_output)\n",
    "\n",
    "vendor_interface()"
   ]
  },
  {
   "cell_type": "code",
   "execution_count": null,
   "id": "7a30b2e1-d405-4374-8b8b-16be077d2754",
   "metadata": {},
   "outputs": [
    {
     "data": {
      "application/vnd.jupyter.widget-view+json": {
       "model_id": "868d578b314c4b9c99fcf81e8c7bd946",
       "version_major": 2,
       "version_minor": 0
      },
      "text/plain": [
       "Dropdown(description='Action:', options=('View Available Events', 'Send Quotes', 'View Sent Quotes', 'Communic…"
      ]
     },
     "metadata": {},
     "output_type": "display_data"
    },
    {
     "data": {
      "application/vnd.jupyter.widget-view+json": {
       "model_id": "66c25f9096344ac1951b07e1d6c83d24",
       "version_major": 2,
       "version_minor": 0
      },
      "text/plain": [
       "Button(description='Submit', style=ButtonStyle())"
      ]
     },
     "metadata": {},
     "output_type": "display_data"
    },
    {
     "data": {
      "application/vnd.jupyter.widget-view+json": {
       "model_id": "47aa8d68d8554560a51f52aa605f94b9",
       "version_major": 2,
       "version_minor": 0
      },
      "text/plain": [
       "Output()"
      ]
     },
     "metadata": {},
     "output_type": "display_data"
    }
   ],
   "source": [
    "#| export\n",
    "import ipywidgets as widgets\n",
    "from IPython.display import display, clear_output\n",
    "\n",
    "# Vendor Functionality\n",
    "\n",
    "def vendor_interface():\n",
    "    # Dropdown to select an action\n",
    "    vendor_action_dropdown = widgets.Dropdown(\n",
    "        options=['View Available Events', 'Send Quotes', 'View Sent Quotes', 'Communicate with Hosts'],\n",
    "        value='View Available Events',\n",
    "        description='Action:',\n",
    "        disabled=False,\n",
    "    )\n",
    "\n",
    "    # Button to submit action\n",
    "    vendor_submit_button = widgets.Button(description='Submit')\n",
    "\n",
    "    # Output widget to display results\n",
    "    vendor_output = widgets.Output()\n",
    "\n",
    "    def on_vendor_submit_button_clicked(b):\n",
    "        with vendor_output:\n",
    "            clear_output()\n",
    "            action = vendor_action_dropdown.value\n",
    "            if action == 'View Available Events':\n",
    "                display(events_df)  # Display all events for simplicity\n",
    "            elif action == 'Send Quotes':\n",
    "                display('Feature to send quotes for events will be here.')\n",
    "            elif action == 'View Sent Quotes':\n",
    "                display(quotes_df[quotes_df['vendor_id'] == 2])  # Assuming vendor_id 2 for this demo\n",
    "            else:\n",
    "                display('Feature to communicate with hosts will be here.')\n",
    "\n",
    "    vendor_submit_button.on_click(on_vendor_submit_button_clicked)\n",
    "\n",
    "    display(vendor_action_dropdown, vendor_submit_button, vendor_output)\n",
    "\n",
    "vendor_interface()"
   ]
  },
  {
   "cell_type": "code",
   "execution_count": null,
   "id": "49792f18-88d1-42a9-aee5-6eb6eb460655",
   "metadata": {},
   "outputs": [
    {
     "data": {
      "application/vnd.jupyter.widget-view+json": {
       "model_id": "ebdec01256c74291a7e1cc2ca75fe0d6",
       "version_major": 2,
       "version_minor": 0
      },
      "text/plain": [
       "Dropdown(description='Action:', options=('View All Users', 'View All Events', 'View All Quotes', 'Manage Users…"
      ]
     },
     "metadata": {},
     "output_type": "display_data"
    },
    {
     "data": {
      "application/vnd.jupyter.widget-view+json": {
       "model_id": "249ddade85304cda8769a57fdbf37b9e",
       "version_major": 2,
       "version_minor": 0
      },
      "text/plain": [
       "Button(description='Submit', style=ButtonStyle())"
      ]
     },
     "metadata": {},
     "output_type": "display_data"
    },
    {
     "data": {
      "application/vnd.jupyter.widget-view+json": {
       "model_id": "cce2f415813c4b78aedc6bc65c4fdc2b",
       "version_major": 2,
       "version_minor": 0
      },
      "text/plain": [
       "Output()"
      ]
     },
     "metadata": {},
     "output_type": "display_data"
    }
   ],
   "source": [
    "#| export\n",
    "# Admin Functionality\n",
    "\n",
    "def admin_interface():\n",
    "    # Dropdown to select an action\n",
    "    admin_action_dropdown = widgets.Dropdown(\n",
    "        options=['View All Users', 'View All Events', 'View All Quotes', 'Manage Users'],\n",
    "        value='View All Users',\n",
    "        description='Action:',\n",
    "        disabled=False,\n",
    "    )\n",
    "\n",
    "    # Button to submit action\n",
    "    admin_submit_button = widgets.Button(description='Submit')\n",
    "\n",
    "    # Output widget to display results\n",
    "    admin_output = widgets.Output()\n",
    "\n",
    "    def on_admin_submit_button_clicked(b):\n",
    "        with admin_output:\n",
    "            clear_output()\n",
    "            action = admin_action_dropdown.value\n",
    "            if action == 'View All Users':\n",
    "                display(users_df)\n",
    "            elif action == 'View All Events':\n",
    "                display(events_df)\n",
    "            elif action == 'View All Quotes':\n",
    "                display(quotes_df)\n",
    "            else:\n",
    "                display('Feature to manage users (approve/reject vendor registrations) will be here.')\n",
    "\n",
    "    admin_submit_button.on_click(on_admin_submit_button_clicked)\n",
    "\n",
    "    display(admin_action_dropdown, admin_submit_button, admin_output)\n",
    "\n",
    "admin_interface()"
   ]
  },
  {
   "cell_type": "code",
   "execution_count": null,
   "id": "12ea8675-9592-4707-8ace-7113cdb23c5a",
   "metadata": {},
   "outputs": [
    {
     "name": "stdout",
     "output_type": "stream",
     "text": [
      "Data Creation Tests Passed!\n"
     ]
    }
   ],
   "source": [
    "def test_data_creation():\n",
    "    # Test Users Data\n",
    "    assert len(users_df) > 0, 'No users data found.'\n",
    "    assert 'user_id' in users_df.columns, 'user_id column missing in users data.'\n",
    "    assert 'user_type' in users_df.columns, 'user_type column missing in users data.'\n",
    "\n",
    "    # Test Events Data\n",
    "    assert len(events_df) > 0, 'No events data found.'\n",
    "    assert 'event_id' in events_df.columns, 'event_id column missing in events data.'\n",
    "    assert 'host_id' in events_df.columns, 'host_id column missing in events data.'\n",
    "\n",
    "    # Test Quotes Data\n",
    "    assert len(quotes_df) > 0, 'No quotes data found.'\n",
    "    assert 'quote_id' in quotes_df.columns, 'quote_id column missing in quotes data.'\n",
    "    assert 'event_id' in quotes_df.columns, 'event_id column missing in quotes data.'\n",
    "    assert 'vendor_id' in quotes_df.columns, 'vendor_id column missing in quotes data.'\n",
    "\n",
    "    print('Data Creation Tests Passed!')\n",
    "\n",
    "test_data_creation()"
   ]
  },
  {
   "cell_type": "code",
   "execution_count": null,
   "id": "25cd9f67-c0ba-4b18-a3ab-0bb2440ce819",
   "metadata": {},
   "outputs": [
    {
     "name": "stdout",
     "output_type": "stream",
     "text": [
      "Functionality Tests Passed!\n"
     ]
    }
   ],
   "source": [
    "def test_functionalities():\n",
    "    # Test Adding Events\n",
    "    initial_event_count = len(events_df)\n",
    "    new_event = {'event_id': 4, 'event_name': 'Test Event', 'event_type': 'Wedding', 'budget': 10000, 'host_id': 1}\n",
    "    events_df.loc[len(events_df)] = new_event\n",
    "    assert len(events_df) == initial_event_count + 1, 'Failed to add new event.'\n",
    "\n",
    "    # Test Sending Quotes\n",
    "    initial_quote_count = len(quotes_df)\n",
    "    new_quote = {'quote_id': 4, 'event_id': 4, 'vendor_id': 2, 'amount': 9000}\n",
    "    quotes_df.loc[len(quotes_df)] = new_quote\n",
    "    assert len(quotes_df) == initial_quote_count + 1, 'Failed to send quote.'\n",
    "\n",
    "    # Test User Management\n",
    "    assert 1 in users_df['user_id'].values, 'Host user missing.'\n",
    "    assert 2 in users_df['user_id'].values, 'Vendor user missing.'\n",
    "\n",
    "    print('Functionality Tests Passed!')\n",
    "\n",
    "test_functionalities()"
   ]
  },
  {
   "cell_type": "code",
   "execution_count": null,
   "id": "1fdff7fa-0f9b-4e3a-bfe5-058e42bd3344",
   "metadata": {},
   "outputs": [
    {
     "name": "stdout",
     "output_type": "stream",
     "text": [
      "Database and schema created successfully!\n"
     ]
    }
   ],
   "source": [
    "#| export\n",
    "import sqlite3\n",
    "\n",
    "# Create a new SQLite3 database\n",
    "conn = sqlite3.connect('wedding_planner_app.db')\n",
    "cursor = conn.cursor()\n",
    "\n",
    "# Create Users Table\n",
    "cursor.execute('''\n",
    "CREATE TABLE IF NOT EXISTS users (\n",
    "    user_id INTEGER PRIMARY KEY,\n",
    "    user_type TEXT NOT NULL,\n",
    "    name TEXT NOT NULL,\n",
    "    email TEXT UNIQUE NOT NULL,\n",
    "    password TEXT NOT NULL,\n",
    "    phone_number TEXT,\n",
    "    registration_date DATE DEFAULT CURRENT_DATE\n",
    ")\n",
    "''')\n",
    "\n",
    "# Create Events Table\n",
    "cursor.execute('''\n",
    "CREATE TABLE IF NOT EXISTS events (\n",
    "    event_id INTEGER PRIMARY KEY,\n",
    "    host_id INTEGER,\n",
    "    event_name TEXT NOT NULL,\n",
    "    event_type TEXT NOT NULL,\n",
    "    budget REAL,\n",
    "    event_date DATE,\n",
    "    creation_date DATE DEFAULT CURRENT_DATE,\n",
    "    FOREIGN KEY (host_id) REFERENCES users(user_id)\n",
    ")\n",
    "''')\n",
    "\n",
    "# Create Quotes Table\n",
    "cursor.execute('''\n",
    "CREATE TABLE IF NOT EXISTS quotes (\n",
    "    quote_id INTEGER PRIMARY KEY,\n",
    "    event_id INTEGER,\n",
    "    vendor_id INTEGER,\n",
    "    amount REAL NOT NULL,\n",
    "    quote_date DATE DEFAULT CURRENT_DATE,\n",
    "    FOREIGN KEY (event_id) REFERENCES events(event_id),\n",
    "    FOREIGN KEY (vendor_id) REFERENCES users(user_id)\n",
    ")\n",
    "''')\n",
    "\n",
    "# Create Messages Table\n",
    "cursor.execute('''\n",
    "CREATE TABLE IF NOT EXISTS messages (\n",
    "    message_id INTEGER PRIMARY KEY,\n",
    "    sender_id INTEGER,\n",
    "    receiver_id INTEGER,\n",
    "    event_id INTEGER,\n",
    "    message_content TEXT NOT NULL,\n",
    "    message_date DATE DEFAULT CURRENT_DATE,\n",
    "    FOREIGN KEY (sender_id) REFERENCES users(user_id),\n",
    "    FOREIGN KEY (receiver_id) REFERENCES users(user_id),\n",
    "    FOREIGN KEY (event_id) REFERENCES events(event_id)\n",
    ")\n",
    "''')\n",
    "\n",
    "# Commit the changes and close the connection\n",
    "conn.commit()\n",
    "conn.close()\n",
    "\n",
    "print('Database and schema created successfully!')"
   ]
  },
  {
   "cell_type": "code",
   "execution_count": null,
   "id": "b8c32001-869c-43df-bd3b-eb1c6ffcd357",
   "metadata": {},
   "outputs": [
    {
     "name": "stdout",
     "output_type": "stream",
     "text": [
      "Requirement already satisfied: flask in /usr/local/lib/python3.11/site-packages (2.3.2)\n",
      "Requirement already satisfied: Werkzeug>=2.3.3 in /usr/local/lib/python3.11/site-packages (from flask) (2.3.6)\n",
      "Requirement already satisfied: Jinja2>=3.1.2 in /usr/local/lib/python3.11/site-packages (from flask) (3.1.2)\n",
      "Requirement already satisfied: itsdangerous>=2.1.2 in /usr/local/lib/python3.11/site-packages (from flask) (2.1.2)\n",
      "Requirement already satisfied: click>=8.1.3 in /usr/local/lib/python3.11/site-packages (from flask) (8.1.3)\n",
      "Requirement already satisfied: blinker>=1.6.2 in /usr/local/lib/python3.11/site-packages (from flask) (1.6.2)\n",
      "Requirement already satisfied: MarkupSafe>=2.0 in /usr/local/lib/python3.11/site-packages (from Jinja2>=3.1.2->flask) (2.1.2)\n"
     ]
    }
   ],
   "source": []
  },
  {
   "cell_type": "code",
   "execution_count": null,
   "id": "be809119-5b7d-428e-b4f4-a736d30f8dbc",
   "metadata": {},
   "outputs": [],
   "source": [
    "\n",
    "# Initialize Flask app\n",
    "app = Flask(__name__)\n",
    "\n",
    "# Sample endpoint to test Flask setup\n",
    "@app.route('/ping', methods=['GET'])\n",
    "def ping():\n",
    "    return jsonify({'message': 'pong'}), 200\n",
    "\n",
    "# Run Flask app (Note: This won't work directly in Noteable.io, but is here for demonstration purposes)\n",
    "# if __name__ == '__main__':\n",
    "#     app.run(debug=True)"
   ]
  },
  {
   "cell_type": "code",
   "execution_count": null,
   "id": "d13d6a77-df30-4121-9413-b6e386880e36",
   "metadata": {},
   "outputs": [],
   "source": [
    "# Connect to SQLite3 Database\n",
    "def get_db_connection():\n",
    "    conn = sqlite3.connect('wedding_planner_app.db')\n",
    "    conn.row_factory = sqlite3.Row\n",
    "    return conn\n",
    "\n",
    "# User Registration Endpoint\n",
    "@app.route('/register', methods=['POST'])\n",
    "def register_user():\n",
    "    data = request.get_json()\n",
    "    conn = get_db_connection()\n",
    "    cursor = conn.cursor()\n",
    "    cursor.execute('''\n",
    "    INSERT INTO users (user_type, name, email, password, phone_number)\n",
    "    VALUES (?, ?, ?, ?, ?)\n",
    "    ''', (data['user_type'], data['name'], data['email'], data['password'], data['phone_number']))\n",
    "    conn.commit()\n",
    "    conn.close()\n",
    "    return jsonify({'message': 'User registered successfully!'}), 201\n",
    "\n",
    "# Event Creation Endpoint\n",
    "@app.route('/create_event', methods=['POST'])\n",
    "def create_event():\n",
    "    data = request.get_json()\n",
    "    conn = get_db_connection()\n",
    "    cursor = conn.cursor()\n",
    "    cursor.execute('''\n",
    "    INSERT INTO events (host_id, event_name, event_type, budget, event_date)\n",
    "    VALUES (?, ?, ?, ?, ?)\n",
    "    ''', (data['host_id'], data['event_name'], data['event_type'], data['budget'], data['event_date']))\n",
    "    conn.commit()\n",
    "    conn.close()\n",
    "    return jsonify({'message': 'Event created successfully!'}), 201\n",
    "\n",
    "# Send Quotes Endpoint\n",
    "@app.route('/send_quote', methods=['POST'])\n",
    "def send_quote():\n",
    "    data = request.get_json()\n",
    "    conn = get_db_connection()\n",
    "    cursor = conn.cursor()\n",
    "    cursor.execute('''\n",
    "    INSERT INTO quotes (event_id, vendor_id, amount)\n",
    "    VALUES (?, ?, ?)\n",
    "    ''', (data['event_id'], data['vendor_id'], data['amount']))\n",
    "    conn.commit()\n",
    "    conn.close()\n",
    "    return jsonify({'message': 'Quote sent successfully!'}), 201\n",
    "\n",
    "# Messaging Endpoint\n",
    "@app.route('/send_message', methods=['POST'])\n",
    "def send_message():\n",
    "    data = request.get_json()\n",
    "    conn = get_db_connection()\n",
    "    cursor = conn.cursor()\n",
    "    cursor.execute('''\n",
    "    INSERT INTO messages (sender_id, receiver_id, event_id, message_content)\n",
    "    VALUES (?, ?, ?, ?)\n",
    "    ''', (data['sender_id'], data['receiver_id'], data['event_id'], data['message_content']))\n",
    "    conn.commit()\n",
    "    conn.close()\n",
    "    return jsonify({'message': 'Message sent successfully!'}), 201"
   ]
  },
  {
   "cell_type": "code",
   "execution_count": null,
   "id": "3f73a2df-a20c-4f73-b9da-d015634bc657",
   "metadata": {},
   "outputs": [
    {
     "name": "stdout",
     "output_type": "stream",
     "text": [
      "Tue Oct 31 19:59:26 AEDT 2023\n"
     ]
    }
   ],
   "source": [
    "!date"
   ]
  },
  {
   "cell_type": "code",
   "execution_count": null,
   "id": "8c20c165-1cc6-479e-962d-92d8df71ff34",
   "metadata": {},
   "outputs": [
    {
     "data": {
      "text/plain": [
       "[<sqlite3.Row>,\n",
       " <sqlite3.Row>,\n",
       " <sqlite3.Row>,\n",
       " <sqlite3.Row>,\n",
       " <sqlite3.Row>]"
      ]
     },
     "execution_count": null,
     "metadata": {},
     "output_type": "execute_result"
    }
   ],
   "source": [
    "# Checking the columns of the quotes table\n",
    "conn = get_db_connection()\n",
    "cursor = conn.cursor()\n",
    "cursor.execute('PRAGMA table_info(quotes)')\n",
    "columns = cursor.fetchall()\n",
    "conn.close()\n",
    "\n",
    "# Displaying the columns\n",
    "columns"
   ]
  },
  {
   "cell_type": "code",
   "execution_count": null,
   "id": "6966bf11-c6c3-4a0e-adde-a0545431dbfe",
   "metadata": {},
   "outputs": [
    {
     "data": {
      "text/plain": [
       "['quote_id', 'event_id', 'vendor_id', 'amount', 'quote_date']"
      ]
     },
     "execution_count": null,
     "metadata": {},
     "output_type": "execute_result"
    }
   ],
   "source": [
    "# Extracting and displaying the column names of the quotes table\n",
    "column_names = [column[1] for column in columns]\n",
    "column_names"
   ]
  },
  {
   "cell_type": "code",
   "execution_count": null,
   "id": "0f76dda7-f8a6-401f-a810-a14b5c9a9329",
   "metadata": {},
   "outputs": [
    {
     "data": {
      "text/plain": [
       "['message_id',\n",
       " 'sender_id',\n",
       " 'receiver_id',\n",
       " 'event_id',\n",
       " 'message_content',\n",
       " 'message_date']"
      ]
     },
     "execution_count": null,
     "metadata": {},
     "output_type": "execute_result"
    }
   ],
   "source": [
    "# Checking the columns of the messages table\n",
    "conn = get_db_connection()\n",
    "cursor = conn.cursor()\n",
    "cursor.execute('PRAGMA table_info(messages)')\n",
    "message_columns = cursor.fetchall()\n",
    "conn.close()\n",
    "\n",
    "# Displaying the columns\n",
    "message_column_names = [column[1] for column in message_columns]\n",
    "message_column_names"
   ]
  }
 ],
 "metadata": {
  "kernelspec": {
   "display_name": "python3",
   "language": "python",
   "name": "python3"
  }
 },
 "nbformat": 4,
 "nbformat_minor": 5
}
