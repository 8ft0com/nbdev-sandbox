{
 "cells": [
  {
   "cell_type": "markdown",
   "metadata": {},
   "source": [
    "# Card\n",
    "\n",
    "> Fill in a module description here"
   ]
  },
  {
   "cell_type": "code",
   "execution_count": null,
   "metadata": {},
   "outputs": [],
   "source": [
    "#| default_exp card "
   ]
  },
  {
   "cell_type": "code",
   "execution_count": null,
   "metadata": {},
   "outputs": [],
   "source": [
    "#| hide\n",
    "from nbdev.showdoc import *\n",
    "from fastcore.test import *"
   ]
  },
  {
   "cell_type": "code",
   "execution_count": null,
   "metadata": {},
   "outputs": [],
   "source": [
    "#| export\n",
    "suits = [\"C\",\"D\",\"H\",\"S\"]\n",
    "ranks = [None, \"A\"] + [str(n) for n in range(2,11)] + [\"J\",\"Q\",\"K\"]"
   ]
  },
  {
   "cell_type": "markdown",
   "metadata": {},
   "source": [
    "We will be using numbers to represent the playing cards and ranks"
   ]
  },
  {
   "cell_type": "code",
   "execution_count": null,
   "metadata": {},
   "outputs": [
    {
     "data": {
      "text/plain": [
       "[None, 'A', '2', '3', '4', '5', '6', '7', '8', '9', '10', 'J', 'Q', 'K']"
      ]
     },
     "execution_count": null,
     "metadata": {},
     "output_type": "execute_result"
    }
   ],
   "source": [
    "suits"
   ]
  },
  {
   "cell_type": "markdown",
   "metadata": {},
   "source": [
    "for instance the suit at index[0]"
   ]
  },
  {
   "cell_type": "code",
   "execution_count": null,
   "metadata": {},
   "outputs": [
    {
     "data": {
      "text/plain": [
       "'C'"
      ]
     },
     "execution_count": null,
     "metadata": {},
     "output_type": "execute_result"
    }
   ],
   "source": [
    "suits[0]"
   ]
  },
  {
   "cell_type": "markdown",
   "metadata": {},
   "source": [
    "These are the ranks"
   ]
  },
  {
   "cell_type": "code",
   "execution_count": null,
   "metadata": {},
   "outputs": [
    {
     "data": {
      "text/plain": [
       "[None, 'A', '2', '3', '4', '5', '6', '7', '8', '9', '10', 'J', 'Q', 'K']"
      ]
     },
     "execution_count": null,
     "metadata": {},
     "output_type": "execute_result"
    }
   ],
   "source": [
    "ranks"
   ]
  },
  {
   "cell_type": "code",
   "execution_count": null,
   "metadata": {},
   "outputs": [],
   "source": [
    "#| exports\n",
    "\n",
    "class Card:\n",
    "    \"Represents a standard playing card.\"\n",
    "    def __init__(self,\n",
    "                 suit:int=0,  # an index into suits\n",
    "                 rank:int=0): # an index into ranks\n",
    "        self.suit = suit\n",
    "        self.rank = rank \n",
    "\n",
    "    def __str__(self):\n",
    "        return f'{ranks[self.rank]}{suits[self.suit]}'\n",
    "    \n",
    "    def __eq__(self, other):\n",
    "        return (self.suit == other.suit and self.rank == other.rank)\n",
    "    \n",
    "    def __lt__(self, other):\n",
    "        return self.rank < other.rank  \n",
    "    \n",
    "    def __gt__(self, other):\n",
    "        return self.rank > other.rank\n",
    "\n",
    "    def __hash__(self):\n",
    "        return hash((self.suit, self.rank))\n",
    "\n",
    "    def __add__(self, other):\n",
    "        return self.rank + other.rank\n",
    "\n",
    "    def __radd__(self, other):\n",
    "        return self.rank + other\n",
    "\n",
    "    def __sub__(self, other):\n",
    "        return self.rank - other.rank\n",
    "\n",
    "    def __rsub__(self, other):\n",
    "        return other.rank - self.rank"
   ]
  },
  {
   "cell_type": "markdown",
   "metadata": {},
   "source": [
    "Here is an example"
   ]
  },
  {
   "cell_type": "code",
   "execution_count": null,
   "metadata": {},
   "outputs": [
    {
     "name": "stdout",
     "output_type": "stream",
     "text": [
      "3D\n"
     ]
    }
   ],
   "source": [
    "c = Card(suit=1, rank=3)\n",
    "print(c)"
   ]
  },
  {
   "cell_type": "markdown",
   "metadata": {},
   "source": [
    "Test Equality"
   ]
  },
  {
   "cell_type": "code",
   "execution_count": null,
   "metadata": {},
   "outputs": [],
   "source": [
    "test_eq(Card(1,2), Card(1,2))\n",
    "test_ne(Card(1,2), Card(2,2)) \n",
    "test_ne(Card(1,2), Card(1,3))"
   ]
  },
  {
   "cell_type": "markdown",
   "metadata": {},
   "source": [
    "Test Comparison"
   ]
  },
  {
   "cell_type": "code",
   "execution_count": null,
   "metadata": {},
   "outputs": [],
   "source": [
    "assert Card(1,2) < Card(2,3)\n",
    "assert Card(1,3) >  Card(1,2)"
   ]
  },
  {
   "cell_type": "code",
   "execution_count": null,
   "metadata": {},
   "outputs": [
    {
     "data": {
      "text/markdown": [
       "---\n",
       "\n",
       "### Card\n",
       "\n",
       ">      Card (suit:int=0, rank:int=0)\n",
       "\n",
       "Represents a standard playing card.\n",
       "\n",
       "|    | **Type** | **Default** | **Details** |\n",
       "| -- | -------- | ----------- | ----------- |\n",
       "| suit | int | 0 | an index into suits |\n",
       "| rank | int | 0 | an index into ranks |"
      ],
      "text/plain": [
       "---\n",
       "\n",
       "### Card\n",
       "\n",
       ">      Card (suit:int=0, rank:int=0)\n",
       "\n",
       "Represents a standard playing card.\n",
       "\n",
       "|    | **Type** | **Default** | **Details** |\n",
       "| -- | -------- | ----------- | ----------- |\n",
       "| suit | int | 0 | an index into suits |\n",
       "| rank | int | 0 | an index into ranks |"
      ]
     },
     "execution_count": null,
     "metadata": {},
     "output_type": "execute_result"
    }
   ],
   "source": [
    "show_doc(Card)"
   ]
  },
  {
   "cell_type": "code",
   "execution_count": null,
   "metadata": {},
   "outputs": [],
   "source": [
    "#| hide\n",
    "import nbdev; nbdev.nbdev_export()"
   ]
  }
 ],
 "metadata": {
  "kernelspec": {
   "display_name": "python3",
   "language": "python",
   "name": "python3"
  }
 },
 "nbformat": 4,
 "nbformat_minor": 4
}
