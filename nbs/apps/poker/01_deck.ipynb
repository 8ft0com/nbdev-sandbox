{
 "cells": [
  {
   "cell_type": "markdown",
   "metadata": {},
   "source": [
    "# Deck\n",
    "\n",
    "> Fill in a module description here"
   ]
  },
  {
   "cell_type": "code",
   "execution_count": null,
   "metadata": {},
   "outputs": [],
   "source": [
    "#| default_exp deck"
   ]
  },
  {
   "cell_type": "code",
   "execution_count": null,
   "metadata": {},
   "outputs": [],
   "source": [
    "#| hide\n",
    "from nbdev.showdoc import *\n"
   ]
  },
  {
   "cell_type": "code",
   "execution_count": null,
   "metadata": {},
   "outputs": [],
   "source": [
    "#| export\n",
    "from nbdev_sandbox.card import *"
   ]
  },
  {
   "cell_type": "code",
   "execution_count": null,
   "metadata": {},
   "outputs": [],
   "source": [
    "#| export\n",
    "class Deck:\n",
    "    \"A Deck of cards\"\n",
    "    def __init__(self): self.cards = [Card(suit, rank) for suit in range(4) for rank in range(1,14)]\n",
    "    def __str__(self): return '; '.join(map(str, self.cards))\n",
    "\n",
    "    # def __init__(self, cards): S.cards = list(cards)\n",
    "    def __len__(self): return len(self.cards)\n",
    "    def __getitem__(self, i): return self.cards[i]\n",
    "    def __setitem__(self, i, c): self.cards[i] = c\n",
    "    def __delitem__(self, i): del self.cards[i]\n",
    "    def __repr__(self): return f'{self.__class__.__name__} ({len(self)} cards)'\n",
    "    def pop(self, i=-1): return self.cards.pop(i)\n",
    "    def add(self, card): self.cards.append(card)\n",
    "    def shuffle(self): random.shuffle(self.cards)\n",
    "    def sort(self): self.cards.sort()\n",
    "    def move(self, card, to):\n",
    "        if not isinstance(card, Card): card = Card(card)\n",
    "        if not isinstance(to, Deck): to = Deck(to)\n",
    "        self.cards.remove(card)\n",
    "        to.add(card)"
   ]
  },
  {
   "cell_type": "code",
   "execution_count": null,
   "metadata": {},
   "outputs": [
    {
     "name": "stdout",
     "output_type": "stream",
     "text": [
      "AC; 2C; 3C; 4C; 5C; 6C; 7C; 8C; 9C; 10C; JC; QC; KC; AD; 2D; 3D; 4D; 5D; 6D; 7D; 8D; 9D; 10D; JD; QD; KD; AH; 2H; 3H; 4H; 5H; 6H; 7H; 8H; 9H; 10H; JH; QH; KH; AS; 2S; 3S; 4S; 5S; 6S; 7S; 8S; 9S; 10S; JS; QS; KS\n"
     ]
    }
   ],
   "source": [
    "d = Deck()\n",
    "print(d)"
   ]
  },
  {
   "cell_type": "code",
   "execution_count": null,
   "metadata": {},
   "outputs": [
    {
     "name": "stdout",
     "output_type": "stream",
     "text": [
      "\u001b[0;31mInit signature:\u001b[0m \u001b[0mDeck\u001b[0m\u001b[0;34m(\u001b[0m\u001b[0;34m)\u001b[0m\u001b[0;34m\u001b[0m\u001b[0;34m\u001b[0m\u001b[0m\n",
      "\u001b[0;31mDocstring:\u001b[0m      A Deck of cards\n",
      "\u001b[0;31mType:\u001b[0m           type\n",
      "\u001b[0;31mSubclasses:\u001b[0m     "
     ]
    }
   ],
   "source": [
    "Deck??"
   ]
  },
  {
   "cell_type": "code",
   "execution_count": null,
   "metadata": {},
   "outputs": [],
   "source": [
    "#| hide\n",
    "import nbdev; nbdev.nbdev_export()"
   ]
  }
 ],
 "metadata": {
  "kernelspec": {
   "display_name": "python3",
   "language": "python",
   "name": "python3"
  }
 },
 "nbformat": 4,
 "nbformat_minor": 4
}
