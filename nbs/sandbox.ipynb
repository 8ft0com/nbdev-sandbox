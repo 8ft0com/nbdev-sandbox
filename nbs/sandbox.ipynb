{
 "cells": [
  {
   "cell_type": "markdown",
   "metadata": {},
   "source": [
    "# Sandbox Notebook"
   ]
  },
  {
   "cell_type": "code",
   "execution_count": null,
   "metadata": {},
   "outputs": [],
   "source": [
    "#| default_exp card "
   ]
  },
  {
   "cell_type": "code",
   "execution_count": null,
   "metadata": {},
   "outputs": [],
   "source": [
    "#| hide\n",
    "from nbdev.showdoc import *"
   ]
  },
  {
   "cell_type": "markdown",
   "metadata": {},
   "source": [
    "# Maths\n",
    "\n",
    "This version is displayed inline: $\\sum_{i=1}^{k+1}i$ . You can include text before and after.\n"
   ]
  },
  {
   "cell_type": "markdown",
   "metadata": {},
   "source": [
    "# Mermaid\n",
    "\n",
    "```{mermaid}\n",
    "flowchart LR\n",
    "  A[Hard edge] --> B(Round edge)\n",
    "  B --> C{Decision}\n",
    "  C --> D[Result one]\n",
    "  C --> E[Result two]\n",
    "```\n",
    "\n",
    "```{mermaid}\n",
    "sequenceDiagram\n",
    "  participant Alice\n",
    "  participant Bob\n",
    "  Alice->>John: Hello John, how are you?\n",
    "  loop Healthcheck\n",
    "    John->>John: Fight against hypochondria\n",
    "  end\n",
    "  Note right of John: Rational thoughts <br/>prevail!\n",
    "  John-->>Alice: Great!\n",
    "  John->>Bob: How about you?\n",
    "  Bob-->>John: Jolly good!\n",
    "```"
   ]
  },
  {
   "cell_type": "markdown",
   "metadata": {},
   "source": [
    "# Markdown\n",
    "\n",
    "::: {.callout-note}\n",
    "Note that there are five types of callouts, including:\n",
    "`note`, `warning`, `important`, `tip`, and `caution`.\n",
    ":::\n",
    "\n",
    "::: {.callout-tip}\n",
    "## Tip with Title\n",
    "\n",
    "This is an example of a callout with a title.\n",
    ":::\n",
    "\n",
    "::: {.callout-caution collapse=\"true\"}\n",
    "## Expand To Learn About Collapse\n",
    "\n",
    "This is an example of a 'folded' caution callout that can be expanded by the user. You can use `collapse=\"true\"` to collapse it by default or `collapse=\"false\"` to make a collapsible callout that is expanded by default.\n",
    ":::"
   ]
  },
  {
   "cell_type": "code",
   "execution_count": 5,
   "metadata": {},
   "outputs": [
    {
     "ename": "SyntaxError",
     "evalue": "non-default argument follows default argument (1263603011.py, line 8)",
     "output_type": "error",
     "traceback": [
      "\u001b[0;36m  Cell \u001b[0;32mIn[5], line 8\u001b[0;36m\u001b[0m\n\u001b[0;31m    email:str, # The email address of the user\u001b[0m\n\u001b[0m    ^\u001b[0m\n\u001b[0;31mSyntaxError\u001b[0m\u001b[0;31m:\u001b[0m non-default argument follows default argument\n"
     ]
    }
   ],
   "source": [
    "#| export\n",
    "class User:\n",
    "    \"\"\"\n",
    "    Represents a user in the system.\n",
    "    \"\"\"\n",
    "    def __init__(self, \n",
    "                user_type:str, # The type of the user (e.g., 'Host/Customer', 'Vendor').\n",
    "                email:str, # The email address of the user\n",
    "                name:str, # The name of the user\n",
    "                mobile_number:str, #The mobile number of the user\n",
    "                password:str=\"PASS\", # The password of the user (In a real-world scenario, this would be hashed\n",
    "                ):\n",
    "\n",
    "        self.user_type = user_type\n",
    "        self.email = email\n",
    "        self.name = name\n",
    "        self.mobile_number = mobile_number\n",
    "        self.password = password  # In a real-world scenario, passwords would be hashed and not stored in plain text\n",
    "        self.events = []  # List to store events created by Host/Customer"
   ]
  },
  {
   "cell_type": "code",
   "execution_count": null,
   "metadata": {},
   "outputs": [],
   "source": [
    "#| export\n",
    "\n",
    "import numpy as np\n",
    "\n",
    "def all(a, # Input array or object that can be converted to an array.\n",
    "        axis:int|tuple|None=None, # Axis or axes along which a logical AND reduction is performed (default: all).\n",
    "        out:np.ndarray|None=None, # Alternate output array in which to place the result.\n",
    "        keepdims:bool=np._NoValue, # Leave reduced one-dimensional axes in the result?\n",
    "        where=np._NoValue, # Elements to include in reduction. See `numpy.ufunc.reduce` for details. New in version 1.20.0.\n",
    "        ) -> np.ndarray|bool: # A new boolean or array, or a reference to `out` if its specified.\n",
    "    \"Test whether all array elements along a given axis evaluate to `True`.\"\n",
    "\n",
    "\n"
   ]
  }
 ],
 "metadata": {
  "kernelspec": {
   "display_name": "Python 3",
   "language": "python",
   "name": "python3"
  },
  "language_info": {
   "codemirror_mode": {
    "name": "ipython",
    "version": 3
   },
   "file_extension": ".py",
   "mimetype": "text/x-python",
   "name": "python",
   "nbconvert_exporter": "python",
   "pygments_lexer": "ipython3",
   "version": "3.11.5"
  }
 },
 "nbformat": 4,
 "nbformat_minor": 2
}
